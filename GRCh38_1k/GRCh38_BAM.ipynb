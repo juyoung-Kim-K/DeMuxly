{
 "cells": [
  {
   "cell_type": "markdown",
   "id": "42fb88f7-a586-4714-b753-a893f9cf03c0",
   "metadata": {},
   "source": [
    "# 흐름 요약\n",
    "\n",
    "## BAM 태그 미리보기 → Cell Ranger가 바코드/UMI/유전자 태그를 어떻게 붙였는지\n",
    "\n",
    "(바코드, 유전자) 한 쌍 선택 →\n",
    "\n",
    "BAM에서 UB 고유개수 세기 ↔ matrix.mtx의 값 대조 (동일해야 함)\n",
    "\n",
    "CR/UR ↔ CB/UB 비교 → 화이트리스트/오류교정이 실제로 어떻게 적용됐는지 확인"
   ]
  },
  {
   "cell_type": "code",
   "execution_count": 1,
   "id": "7c5e0e21-ee6a-45be-9093-c8e8a76f4286",
   "metadata": {},
   "outputs": [
    {
     "name": "stderr",
     "output_type": "stream",
     "text": [
      "[W::hts_idx_load3] The index file is older than the data file: /Users/gimjuyeong/Desktop/single-cell/Data/PBMC 1K/outs/possorted_genome_bam.bam.bai\n"
     ]
    },
    {
     "name": "stdout",
     "output_type": "stream",
     "text": [
      "(1221, 38606) 1221 38606\n"
     ]
    }
   ],
   "source": [
    "import os, gzip, pandas as pd\n",
    "from collections import defaultdict\n",
    "import numpy as np\n",
    "import scipy.io\n",
    "import pysam\n",
    "\n",
    "RUN = os.path.expanduser(\"/Users/gimjuyeong/Desktop/single-cell/Data/PBMC 1K\")   #결과 파일 경로 지정 (각 파일 형태가 달라서)\n",
    "OUT = os.path.join(RUN, \"outs\")      \n",
    "BAM = os.path.join(OUT, \"possorted_genome_bam.bam\")  # read alignmnet result\n",
    "BAR = os.path.join(OUT, \"filtered_feature_bc_matrix\", \"barcodes.tsv.gz\") #barcode list (singlet - positive result)\n",
    "FEA = os.path.join(OUT, \"filtered_feature_bc_matrix\", \"features.tsv.gz\") #feature information (gene ID, gene name etc..)\n",
    "MTX = os.path.join(OUT, \"filtered_feature_bc_matrix\", \"matrix.mtx.gz\")  #sparse matrix\n",
    "\n",
    "for p in [BAM, BAR, FEA, MTX]:\n",
    "    assert os.path.exists(p), f\"파일이 없습니다: {p}\"\n",
    "\n",
    "bam = pysam.AlignmentFile(BAM, \"rb\")\n",
    "\n",
    "# barcodes, features 로드\n",
    "barcodes = [line.strip() for line in gzip.open(BAR, \"rt\")]\n",
    "feat_rows = [line.strip().split(\"\\t\") for line in gzip.open(FEA, \"rt\")]\n",
    "# features.tsv는 [gene_id, gene_name, feature_type] 3열\n",
    "feat_df = pd.DataFrame(feat_rows, columns=[\"gene_id\",\"gene_name\",\"feature_type\"])\n",
    "\n",
    "# matrix.mtx (CSR) 로드\n",
    "mtx = scipy.io.mmread(MTX).tocsr().T  # (barcodes x features)\n",
    "print(mtx.shape, len(barcodes), len(feat_df))"
   ]
  },
  {
   "cell_type": "code",
   "execution_count": 2,
   "id": "d05312ac-a3ff-4c59-a460-0c1637670897",
   "metadata": {},
   "outputs": [
    {
     "name": "stdout",
     "output_type": "stream",
     "text": [
      "READ: A00228:279:HFWFVDMXX:2:1385:2085:18975\n",
      "  CR: TCTGCATGTAACTTAA\n",
      "  UB: TACCACAACCAG\n",
      "  UR: TACCACAACCAG\n",
      "READ: A00228:279:HFWFVDMXX:1:2388:30499:30827\n",
      "  CB: CACTGAAGTCTTTCTA-1\n",
      "  CR: CACTGAAGTCTTTCTA\n",
      "  GN: DDX11L2\n",
      "  GX: ENSG00000290825\n",
      "  UB: GCCTTACAGGTC\n",
      "  UR: GCCTTACAGGTC\n",
      "READ: A00228:279:HFWFVDMXX:1:2415:3640:8015\n",
      "  CB: CACTGAAGTCTTTCTA-1\n",
      "  CR: CACTGAAGTCTTTCTA\n",
      "  GN: DDX11L2\n",
      "  GX: ENSG00000290825\n",
      "  UB: GCCTTACAGGTC\n",
      "  UR: GCCTTACAGGTC\n"
     ]
    }
   ],
   "source": [
    "# 몇 개 리드만 태그 보기\n",
    "cnt = 0\n",
    "for read in bam.fetch(until_eof=True):\n",
    "    tags = dict(read.get_tags())\n",
    "    has = set(tags.keys()) & {\"CB\",\"CR\",\"UB\",\"UR\",\"GX\",\"GN\"}\n",
    "    if has:\n",
    "        print(\"READ:\", read.query_name)\n",
    "        for k in sorted(has):\n",
    "            print(f\"  {k}:\", tags[k])\n",
    "        cnt += 1\n",
    "    if cnt >= 3:\n",
    "        break\n"
   ]
  },
  {
   "cell_type": "code",
   "execution_count": 3,
   "id": "58d1cfcd-437b-49de-b881-96bb5d1beab8",
   "metadata": {},
   "outputs": [
    {
     "name": "stdout",
     "output_type": "stream",
     "text": [
      "raw matrix type: <class 'scipy.sparse._coo.coo_matrix'> shape: (38606, 1221)\n",
      "as CSR shape: (38606, 1221)\n",
      "len(barcodes) = 1221\n",
      "len(features) = 38606\n",
      "mtx.shape = (38606, 1221)\n",
      "=> columns correspond to barcodes; transposing matrix to make rows=barcodes.\n",
      "new mtx.shape = (1221, 38606)\n",
      "n_rows (barcodes) = 1221 n_cols (features) = 38606\n",
      "row_nnz: min, median, max = 15 3290.0 8132\n",
      "선택한 rid (0-based): 624 row_nnz[rid] = 8132\n",
      "선택 바코드: GATCACACACCCTGTT-1\n",
      "선택 유전자: ENSG00000198938 MT-CO3 열인덱스: 38575 matrix값: 1211\n"
     ]
    }
   ],
   "source": [
    "# load matrix\n",
    "raw = scipy.io.mmread(MTX)   # sparse matrix (COO usually)\n",
    "print(\"raw matrix type:\", type(raw), \"shape:\", raw.shape)\n",
    "mtx = raw.tocsr()\n",
    "print(\"as CSR shape:\", mtx.shape)\n",
    "\n",
    "# quick sanity prints\n",
    "print(\"len(barcodes) =\", len(barcodes))\n",
    "print(\"len(features) =\", len(feat_df))\n",
    "print(\"mtx.shape =\", mtx.shape)\n",
    "\n",
    "# If neither dim matches barcodes, error out with diagnostic info\n",
    "if mtx.shape[0] == len(barcodes):\n",
    "    print(\"=> rows correspond to barcodes (no transpose needed).\")\n",
    "elif mtx.shape[1] == len(barcodes):\n",
    "    print(\"=> columns correspond to barcodes; transposing matrix to make rows=barcodes.\")\n",
    "    mtx = mtx.T.tocsr()\n",
    "    print(\"new mtx.shape =\", mtx.shape)\n",
    "else:\n",
    "    # 상세진단: 출력해서 왜 안맞는지 확인\n",
    "    raise RuntimeError(f\"barcode 길이({len(barcodes)})가 mtx 차원과 맞지 않습니다. mtx.shape={mtx.shape}. \"\n",
    "                       \"filtered vs raw matrix 경로가 맞는지 확인하세요.\")\n",
    "\n",
    "# 이제 row-wise nonzero 검사 (rows == barcodes)\n",
    "row_nnz = np.diff(mtx.indptr)  # length == n_rows\n",
    "print(\"n_rows (barcodes) =\", mtx.shape[0], \"n_cols (features) =\", mtx.shape[1])\n",
    "print(\"row_nnz: min, median, max =\", row_nnz.min(), np.median(row_nnz), row_nnz.max())\n",
    "\n",
    "# 안전하게 rid 선택: nonzero가 있는 행들만 대상으로\n",
    "nonzero_rows = np.where(row_nnz > 0)[0]\n",
    "if len(nonzero_rows) == 0:\n",
    "    raise RuntimeError(\"모든 바코드 행이 0입니다. mtx / barcodes 파일이 올바른지 확인하세요.\")\n",
    "rid = int(nonzero_rows[np.argmax(row_nnz[nonzero_rows])])  # nonzero 중에서 가장 많은 것을 골라\n",
    "print(\"선택한 rid (0-based):\", rid, \"row_nnz[rid] =\", row_nnz[rid])\n",
    "\n",
    "# 범위 재확인 (안전장치)\n",
    "if rid < 0 or rid >= len(barcodes):\n",
    "    raise IndexError(f\"계산된 rid={rid} 가 barcodes 인덱스 범위(0..{len(barcodes)-1}) 밖에 있습니다.\")\n",
    "\n",
    "BC = barcodes[rid]\n",
    "print(\"선택 바코드:\", BC)\n",
    "\n",
    "# 그 바코드에서 가장 카운트가 높은 유전자 찾기 (행이 barcode, 열이 gene)\n",
    "row_start, row_end = mtx.indptr[rid], mtx.indptr[rid+1]\n",
    "cols = mtx.indices[row_start:row_end]\n",
    "vals = mtx.data[row_start:row_end]\n",
    "if len(vals)==0:\n",
    "    raise RuntimeError(\"선택한 바코드 행에 nonzero 값이 없음.\")\n",
    "cid = int(cols[np.argmax(vals)])\n",
    "VAL = int(vals.max())\n",
    "GID = feat_df.iloc[cid, 0]\n",
    "GNAME = feat_df.iloc[cid, 1]\n",
    "print(\"선택 유전자:\", GID, GNAME, \"열인덱스:\", cid, \"matrix값:\", VAL)\n"
   ]
  },
  {
   "cell_type": "markdown",
   "id": "e9324a07-84d3-461e-ab3f-64a776281718",
   "metadata": {},
   "source": [
    "### Cell Ranger의 demultiplexing/교정 과정이 실제로 barcode/UMI를 어떻게 바꿨는지 확인"
   ]
  },
  {
   "cell_type": "code",
   "execution_count": 4,
   "id": "59c128fe-5d7b-4b33-ada4-6b867a4bbd65",
   "metadata": {},
   "outputs": [
    {
     "data": {
      "text/html": [
       "<div>\n",
       "<style scoped>\n",
       "    .dataframe tbody tr th:only-of-type {\n",
       "        vertical-align: middle;\n",
       "    }\n",
       "\n",
       "    .dataframe tbody tr th {\n",
       "        vertical-align: top;\n",
       "    }\n",
       "\n",
       "    .dataframe thead th {\n",
       "        text-align: right;\n",
       "    }\n",
       "</style>\n",
       "<table border=\"1\" class=\"dataframe\">\n",
       "  <thead>\n",
       "    <tr style=\"text-align: right;\">\n",
       "      <th></th>\n",
       "      <th>type</th>\n",
       "      <th>read_id</th>\n",
       "      <th>raw</th>\n",
       "      <th>corrected</th>\n",
       "    </tr>\n",
       "  </thead>\n",
       "  <tbody>\n",
       "    <tr>\n",
       "      <th>0</th>\n",
       "      <td>CB!=CR</td>\n",
       "      <td>A00228:279:HFWFVDMXX:1:2317:2790:31093</td>\n",
       "      <td>CACTGAAGTCTTTCTA</td>\n",
       "      <td>CACTGAAGTCTTTCTA-1</td>\n",
       "    </tr>\n",
       "    <tr>\n",
       "      <th>1</th>\n",
       "      <td>CB!=CR</td>\n",
       "      <td>A00228:279:HFWFVDMXX:2:2166:6289:9565</td>\n",
       "      <td>CACTGAAGTCTTTCTA</td>\n",
       "      <td>CACTGAAGTCTTTCTA-1</td>\n",
       "    </tr>\n",
       "    <tr>\n",
       "      <th>2</th>\n",
       "      <td>CB!=CR</td>\n",
       "      <td>A00228:279:HFWFVDMXX:1:1276:28908:3991</td>\n",
       "      <td>TACCGGGTCCTCGATC</td>\n",
       "      <td>TACCGGGTCCTCGATC-1</td>\n",
       "    </tr>\n",
       "    <tr>\n",
       "      <th>3</th>\n",
       "      <td>CB!=CR</td>\n",
       "      <td>A00228:279:HFWFVDMXX:2:1481:8359:5447</td>\n",
       "      <td>GTGTTCCGTAGTTCCA</td>\n",
       "      <td>GTGTTCCGTAGTTCCA-1</td>\n",
       "    </tr>\n",
       "    <tr>\n",
       "      <th>4</th>\n",
       "      <td>CB!=CR</td>\n",
       "      <td>A00228:279:HFWFVDMXX:2:1126:28537:34350</td>\n",
       "      <td>AGGTGTTAGCAATTAG</td>\n",
       "      <td>AGGTGTTAGCAATTAG-1</td>\n",
       "    </tr>\n",
       "  </tbody>\n",
       "</table>\n",
       "</div>"
      ],
      "text/plain": [
       "     type                                  read_id               raw  \\\n",
       "0  CB!=CR   A00228:279:HFWFVDMXX:1:2317:2790:31093  CACTGAAGTCTTTCTA   \n",
       "1  CB!=CR    A00228:279:HFWFVDMXX:2:2166:6289:9565  CACTGAAGTCTTTCTA   \n",
       "2  CB!=CR   A00228:279:HFWFVDMXX:1:1276:28908:3991  TACCGGGTCCTCGATC   \n",
       "3  CB!=CR    A00228:279:HFWFVDMXX:2:1481:8359:5447  GTGTTCCGTAGTTCCA   \n",
       "4  CB!=CR  A00228:279:HFWFVDMXX:2:1126:28537:34350  AGGTGTTAGCAATTAG   \n",
       "\n",
       "            corrected  \n",
       "0  CACTGAAGTCTTTCTA-1  \n",
       "1  CACTGAAGTCTTTCTA-1  \n",
       "2  TACCGGGTCCTCGATC-1  \n",
       "3  GTGTTCCGTAGTTCCA-1  \n",
       "4  AGGTGTTAGCAATTAG-1  "
      ]
     },
     "execution_count": 4,
     "metadata": {},
     "output_type": "execute_result"
    }
   ],
   "source": [
    "diff_examples = []\n",
    "for read in bam.fetch(until_eof=True):\n",
    "    tags = dict(read.get_tags())   # read의 태그들을 딕셔너리로 가져옴\n",
    "    cb, cr = tags.get(\"CB\"), tags.get(\"CR\")   # 교정된 바코드, 원시 바코드\n",
    "    ub, ur = tags.get(\"UB\"), tags.get(\"UR\")   # 교정된 UMI, 원시 UMI\n",
    "    \n",
    "    # (1) cell barcode 비교\n",
    "    if cb and cr and cb != cr:\n",
    "        diff_examples.append((\"CB!=CR\", read.query_name, cr, cb))\n",
    "    \n",
    "    # (2) UMI 비교\n",
    "    if ub and ur and ub != ur:\n",
    "        diff_examples.append((\"UB!=UR\", read.query_name, ur, ub))\n",
    "    \n",
    "    # (3) 예시 5개만 모으고 종료\n",
    "    if len(diff_examples) >= 5:\n",
    "        break\n",
    "\n",
    "# 보기 편하게 DataFrame으로 정리\n",
    "pd.DataFrame(diff_examples, columns=[\"type\",\"read_id\",\"raw\",\"corrected\"])\n"
   ]
  },
  {
   "cell_type": "code",
   "execution_count": 5,
   "id": "a5d4b786-2e50-4f42-9927-5f190d0f92fb",
   "metadata": {},
   "outputs": [
    {
     "name": "stdout",
     "output_type": "stream",
     "text": [
      "총 리드 수: 66601879\n",
      "Cell barcode 교정된 리드 수: 64866118 (97.394%)\n",
      "UMI 교정된 리드 수: 1096133 (1.646%)\n"
     ]
    }
   ],
   "source": [
    "total_reads = 0\n",
    "cb_diff, ub_diff = 0, 0\n",
    "\n",
    "for read in bam.fetch(until_eof=True):\n",
    "    total_reads += 1\n",
    "    tags = dict(read.get_tags())\n",
    "    cb, cr = tags.get(\"CB\"), tags.get(\"CR\")\n",
    "    ub, ur = tags.get(\"UB\"), tags.get(\"UR\")\n",
    "    \n",
    "    # cell barcode 교정 여부\n",
    "    if cb and cr and cb != cr:\n",
    "        cb_diff += 1\n",
    "    \n",
    "    # UMI 교정 여부\n",
    "    if ub and ur and ub != ur:\n",
    "        ub_diff += 1\n",
    "\n",
    "print(\"총 리드 수:\", total_reads)\n",
    "print(\"Cell barcode 교정된 리드 수:\", cb_diff, f\"({cb_diff/total_reads*100:.3f}%)\")\n",
    "print(\"UMI 교정된 리드 수:\", ub_diff, f\"({ub_diff/total_reads*100:.3f}%)\")\n"
   ]
  },
  {
   "cell_type": "markdown",
   "id": "278502c5-7cb4-4c94-b7ef-ad79b637d141",
   "metadata": {},
   "source": [
    "### CellRanger - outs \n",
    "\n",
    "- Cell Ranger 결과 디렉토리 구조를 따라 파일 경로를 지정함.\n",
    "\n",
    "- outs/ 안에 주요 결과들이 들어 있음:\n",
    "\n",
    "- possorted_genome_bam.bam: read alignment 결과 (각 read가 genome 어디에 붙었는지)\n",
    "\n",
    "- barcodes.tsv.gz: 유효 세포(barcode) 리스트\n",
    "\n",
    "- features.tsv.gz: feature 정보 (유전자 ID, 유전자명, feature 종류)\n",
    "\n",
    "- matrix.mtx.gz: 유전자 × barcode sparse matrix"
   ]
  },
  {
   "cell_type": "code",
   "execution_count": 6,
   "id": "0ebf8fed-d168-4bae-af10-8379dcaf5091",
   "metadata": {},
   "outputs": [
    {
     "data": {
      "text/html": [
       "<div>\n",
       "<style scoped>\n",
       "    .dataframe tbody tr th:only-of-type {\n",
       "        vertical-align: middle;\n",
       "    }\n",
       "\n",
       "    .dataframe tbody tr th {\n",
       "        vertical-align: top;\n",
       "    }\n",
       "\n",
       "    .dataframe thead th {\n",
       "        text-align: right;\n",
       "    }\n",
       "</style>\n",
       "<table border=\"1\" class=\"dataframe\">\n",
       "  <thead>\n",
       "    <tr style=\"text-align: right;\">\n",
       "      <th></th>\n",
       "      <th>barcode</th>\n",
       "      <th>gene_id</th>\n",
       "      <th>gene</th>\n",
       "      <th>matrix_val(UMI)</th>\n",
       "      <th>reads_in_BAM</th>\n",
       "      <th>UMI_in_BAM</th>\n",
       "    </tr>\n",
       "  </thead>\n",
       "  <tbody>\n",
       "    <tr>\n",
       "      <th>0</th>\n",
       "      <td>GATCACACACCCTGTT-1</td>\n",
       "      <td>ENSG00000198938</td>\n",
       "      <td>MT-CO3</td>\n",
       "      <td>1211</td>\n",
       "      <td>0</td>\n",
       "      <td>0</td>\n",
       "    </tr>\n",
       "    <tr>\n",
       "      <th>1</th>\n",
       "      <td>GATCACACACCCTGTT-1</td>\n",
       "      <td>ENSG00000198712</td>\n",
       "      <td>MT-CO2</td>\n",
       "      <td>1210</td>\n",
       "      <td>0</td>\n",
       "      <td>0</td>\n",
       "    </tr>\n",
       "    <tr>\n",
       "      <th>2</th>\n",
       "      <td>GATCACACACCCTGTT-1</td>\n",
       "      <td>ENSG00000198804</td>\n",
       "      <td>MT-CO1</td>\n",
       "      <td>1190</td>\n",
       "      <td>0</td>\n",
       "      <td>0</td>\n",
       "    </tr>\n",
       "    <tr>\n",
       "      <th>3</th>\n",
       "      <td>GATCACACACCCTGTT-1</td>\n",
       "      <td>ENSG00000075624</td>\n",
       "      <td>ACTB</td>\n",
       "      <td>870</td>\n",
       "      <td>0</td>\n",
       "      <td>0</td>\n",
       "    </tr>\n",
       "    <tr>\n",
       "      <th>4</th>\n",
       "      <td>GATCACACACCCTGTT-1</td>\n",
       "      <td>ENSG00000198899</td>\n",
       "      <td>MT-ATP6</td>\n",
       "      <td>858</td>\n",
       "      <td>0</td>\n",
       "      <td>0</td>\n",
       "    </tr>\n",
       "    <tr>\n",
       "      <th>5</th>\n",
       "      <td>CGAGAAGTCAAGTTGC-1</td>\n",
       "      <td>ENSG00000211592</td>\n",
       "      <td>IGKC</td>\n",
       "      <td>10915</td>\n",
       "      <td>0</td>\n",
       "      <td>0</td>\n",
       "    </tr>\n",
       "    <tr>\n",
       "      <th>6</th>\n",
       "      <td>CGAGAAGTCAAGTTGC-1</td>\n",
       "      <td>ENSG00000253755</td>\n",
       "      <td>IGHGP</td>\n",
       "      <td>1885</td>\n",
       "      <td>0</td>\n",
       "      <td>0</td>\n",
       "    </tr>\n",
       "    <tr>\n",
       "      <th>7</th>\n",
       "      <td>CGAGAAGTCAAGTTGC-1</td>\n",
       "      <td>ENSG00000198938</td>\n",
       "      <td>MT-CO3</td>\n",
       "      <td>1019</td>\n",
       "      <td>0</td>\n",
       "      <td>0</td>\n",
       "    </tr>\n",
       "    <tr>\n",
       "      <th>8</th>\n",
       "      <td>CGAGAAGTCAAGTTGC-1</td>\n",
       "      <td>ENSG00000198712</td>\n",
       "      <td>MT-CO2</td>\n",
       "      <td>851</td>\n",
       "      <td>0</td>\n",
       "      <td>0</td>\n",
       "    </tr>\n",
       "    <tr>\n",
       "      <th>9</th>\n",
       "      <td>CGAGAAGTCAAGTTGC-1</td>\n",
       "      <td>ENSG00000198804</td>\n",
       "      <td>MT-CO1</td>\n",
       "      <td>779</td>\n",
       "      <td>0</td>\n",
       "      <td>0</td>\n",
       "    </tr>\n",
       "    <tr>\n",
       "      <th>10</th>\n",
       "      <td>TATCTTGTCCATCTCG-1</td>\n",
       "      <td>ENSG00000251562</td>\n",
       "      <td>MALAT1</td>\n",
       "      <td>847</td>\n",
       "      <td>0</td>\n",
       "      <td>0</td>\n",
       "    </tr>\n",
       "    <tr>\n",
       "      <th>11</th>\n",
       "      <td>TATCTTGTCCATCTCG-1</td>\n",
       "      <td>ENSG00000075624</td>\n",
       "      <td>ACTB</td>\n",
       "      <td>486</td>\n",
       "      <td>0</td>\n",
       "      <td>0</td>\n",
       "    </tr>\n",
       "    <tr>\n",
       "      <th>12</th>\n",
       "      <td>TATCTTGTCCATCTCG-1</td>\n",
       "      <td>ENSG00000019582</td>\n",
       "      <td>CD74</td>\n",
       "      <td>414</td>\n",
       "      <td>0</td>\n",
       "      <td>0</td>\n",
       "    </tr>\n",
       "    <tr>\n",
       "      <th>13</th>\n",
       "      <td>TATCTTGTCCATCTCG-1</td>\n",
       "      <td>ENSG00000198804</td>\n",
       "      <td>MT-CO1</td>\n",
       "      <td>398</td>\n",
       "      <td>0</td>\n",
       "      <td>0</td>\n",
       "    </tr>\n",
       "    <tr>\n",
       "      <th>14</th>\n",
       "      <td>TATCTTGTCCATCTCG-1</td>\n",
       "      <td>ENSG00000204287</td>\n",
       "      <td>HLA-DRA</td>\n",
       "      <td>392</td>\n",
       "      <td>0</td>\n",
       "      <td>0</td>\n",
       "    </tr>\n",
       "    <tr>\n",
       "      <th>15</th>\n",
       "      <td>AAGACAACAGATCACT-1</td>\n",
       "      <td>ENSG00000251562</td>\n",
       "      <td>MALAT1</td>\n",
       "      <td>842</td>\n",
       "      <td>0</td>\n",
       "      <td>0</td>\n",
       "    </tr>\n",
       "    <tr>\n",
       "      <th>16</th>\n",
       "      <td>AAGACAACAGATCACT-1</td>\n",
       "      <td>ENSG00000198804</td>\n",
       "      <td>MT-CO1</td>\n",
       "      <td>341</td>\n",
       "      <td>0</td>\n",
       "      <td>0</td>\n",
       "    </tr>\n",
       "    <tr>\n",
       "      <th>17</th>\n",
       "      <td>AAGACAACAGATCACT-1</td>\n",
       "      <td>ENSG00000198938</td>\n",
       "      <td>MT-CO3</td>\n",
       "      <td>276</td>\n",
       "      <td>0</td>\n",
       "      <td>0</td>\n",
       "    </tr>\n",
       "    <tr>\n",
       "      <th>18</th>\n",
       "      <td>AAGACAACAGATCACT-1</td>\n",
       "      <td>ENSG00000156508</td>\n",
       "      <td>EEF1A1</td>\n",
       "      <td>227</td>\n",
       "      <td>0</td>\n",
       "      <td>0</td>\n",
       "    </tr>\n",
       "    <tr>\n",
       "      <th>19</th>\n",
       "      <td>AAGACAACAGATCACT-1</td>\n",
       "      <td>ENSG00000198712</td>\n",
       "      <td>MT-CO2</td>\n",
       "      <td>216</td>\n",
       "      <td>0</td>\n",
       "      <td>0</td>\n",
       "    </tr>\n",
       "    <tr>\n",
       "      <th>20</th>\n",
       "      <td>TCCTCTTAGCCAAGGT-1</td>\n",
       "      <td>ENSG00000251562</td>\n",
       "      <td>MALAT1</td>\n",
       "      <td>781</td>\n",
       "      <td>0</td>\n",
       "      <td>0</td>\n",
       "    </tr>\n",
       "    <tr>\n",
       "      <th>21</th>\n",
       "      <td>TCCTCTTAGCCAAGGT-1</td>\n",
       "      <td>ENSG00000198804</td>\n",
       "      <td>MT-CO1</td>\n",
       "      <td>377</td>\n",
       "      <td>0</td>\n",
       "      <td>0</td>\n",
       "    </tr>\n",
       "    <tr>\n",
       "      <th>22</th>\n",
       "      <td>TCCTCTTAGCCAAGGT-1</td>\n",
       "      <td>ENSG00000198938</td>\n",
       "      <td>MT-CO3</td>\n",
       "      <td>272</td>\n",
       "      <td>0</td>\n",
       "      <td>0</td>\n",
       "    </tr>\n",
       "    <tr>\n",
       "      <th>23</th>\n",
       "      <td>TCCTCTTAGCCAAGGT-1</td>\n",
       "      <td>ENSG00000198712</td>\n",
       "      <td>MT-CO2</td>\n",
       "      <td>255</td>\n",
       "      <td>0</td>\n",
       "      <td>0</td>\n",
       "    </tr>\n",
       "    <tr>\n",
       "      <th>24</th>\n",
       "      <td>TCCTCTTAGCCAAGGT-1</td>\n",
       "      <td>ENSG00000205542</td>\n",
       "      <td>TMSB4X</td>\n",
       "      <td>219</td>\n",
       "      <td>0</td>\n",
       "      <td>0</td>\n",
       "    </tr>\n",
       "  </tbody>\n",
       "</table>\n",
       "</div>"
      ],
      "text/plain": [
       "               barcode          gene_id     gene  matrix_val(UMI)  \\\n",
       "0   GATCACACACCCTGTT-1  ENSG00000198938   MT-CO3             1211   \n",
       "1   GATCACACACCCTGTT-1  ENSG00000198712   MT-CO2             1210   \n",
       "2   GATCACACACCCTGTT-1  ENSG00000198804   MT-CO1             1190   \n",
       "3   GATCACACACCCTGTT-1  ENSG00000075624     ACTB              870   \n",
       "4   GATCACACACCCTGTT-1  ENSG00000198899  MT-ATP6              858   \n",
       "5   CGAGAAGTCAAGTTGC-1  ENSG00000211592     IGKC            10915   \n",
       "6   CGAGAAGTCAAGTTGC-1  ENSG00000253755    IGHGP             1885   \n",
       "7   CGAGAAGTCAAGTTGC-1  ENSG00000198938   MT-CO3             1019   \n",
       "8   CGAGAAGTCAAGTTGC-1  ENSG00000198712   MT-CO2              851   \n",
       "9   CGAGAAGTCAAGTTGC-1  ENSG00000198804   MT-CO1              779   \n",
       "10  TATCTTGTCCATCTCG-1  ENSG00000251562   MALAT1              847   \n",
       "11  TATCTTGTCCATCTCG-1  ENSG00000075624     ACTB              486   \n",
       "12  TATCTTGTCCATCTCG-1  ENSG00000019582     CD74              414   \n",
       "13  TATCTTGTCCATCTCG-1  ENSG00000198804   MT-CO1              398   \n",
       "14  TATCTTGTCCATCTCG-1  ENSG00000204287  HLA-DRA              392   \n",
       "15  AAGACAACAGATCACT-1  ENSG00000251562   MALAT1              842   \n",
       "16  AAGACAACAGATCACT-1  ENSG00000198804   MT-CO1              341   \n",
       "17  AAGACAACAGATCACT-1  ENSG00000198938   MT-CO3              276   \n",
       "18  AAGACAACAGATCACT-1  ENSG00000156508   EEF1A1              227   \n",
       "19  AAGACAACAGATCACT-1  ENSG00000198712   MT-CO2              216   \n",
       "20  TCCTCTTAGCCAAGGT-1  ENSG00000251562   MALAT1              781   \n",
       "21  TCCTCTTAGCCAAGGT-1  ENSG00000198804   MT-CO1              377   \n",
       "22  TCCTCTTAGCCAAGGT-1  ENSG00000198938   MT-CO3              272   \n",
       "23  TCCTCTTAGCCAAGGT-1  ENSG00000198712   MT-CO2              255   \n",
       "24  TCCTCTTAGCCAAGGT-1  ENSG00000205542   TMSB4X              219   \n",
       "\n",
       "    reads_in_BAM  UMI_in_BAM  \n",
       "0              0           0  \n",
       "1              0           0  \n",
       "2              0           0  \n",
       "3              0           0  \n",
       "4              0           0  \n",
       "5              0           0  \n",
       "6              0           0  \n",
       "7              0           0  \n",
       "8              0           0  \n",
       "9              0           0  \n",
       "10             0           0  \n",
       "11             0           0  \n",
       "12             0           0  \n",
       "13             0           0  \n",
       "14             0           0  \n",
       "15             0           0  \n",
       "16             0           0  \n",
       "17             0           0  \n",
       "18             0           0  \n",
       "19             0           0  \n",
       "20             0           0  \n",
       "21             0           0  \n",
       "22             0           0  \n",
       "23             0           0  \n",
       "24             0           0  "
      ]
     },
     "execution_count": 6,
     "metadata": {},
     "output_type": "execute_result"
    }
   ],
   "source": [
    "# 상위 N개의 바코드 × 각 바코드 상위 M 유전자에 대해\n",
    "N, M = 5, 5\n",
    "top_rows = np.argsort(row_nnz)[-N:][::-1]\n",
    "\n",
    "def bam_umi_count_for(BC, GID, max_scan=3_000_000):\n",
    "    umis, reads = set(), 0\n",
    "    i = 0\n",
    "    for read in bam.fetch(until_eof=True):\n",
    "        i += 1\n",
    "        tags = dict(read.get_tags())\n",
    "        if tags.get(\"CB\")==BC and tags.get(\"GX\")==GID:\n",
    "            reads += 1\n",
    "            ub = tags.get(\"UB\")\n",
    "            if ub: umis.add(ub)\n",
    "        if i >= max_scan:\n",
    "            break\n",
    "    return reads, len(umis)\n",
    "\n",
    "rows = []\n",
    "for rid in top_rows:\n",
    "    BC = barcodes[rid]\n",
    "    rs, re = mtx.indptr[rid], mtx.indptr[rid+1]\n",
    "    cols, vals = mtx.indices[rs:re], mtx.data[rs:re]\n",
    "    top_cidx = cols[np.argsort(vals)[-M:][::-1]]\n",
    "    for cid in top_cidx:\n",
    "        GID, GNAME = feat_df.iloc[cid, 0], feat_df.iloc[cid, 1]\n",
    "        VAL = int(mtx[rid, cid])\n",
    "        reads_n, umis_n = bam_umi_count_for(BC, GID)  # 주의: 큰 BAM에선 느릴 수 있음\n",
    "        rows.append([BC, GID, GNAME, VAL, reads_n, umis_n])\n",
    "\n",
    "report = pd.DataFrame(rows, columns=[\"barcode\",\"gene_id\",\"gene\",\"matrix_val(UMI)\",\"reads_in_BAM\",\"UMI_in_BAM\"])\n",
    "report\n"
   ]
  },
  {
   "cell_type": "markdown",
   "id": "bcf7af3d-76e5-45f2-8bf9-be3e8eea1f3e",
   "metadata": {},
   "source": [
    "## Load data"
   ]
  },
  {
   "cell_type": "markdown",
   "id": "9c52412c-b944-4376-bb60-158998bdccee",
   "metadata": {},
   "source": [
    "### workshop - adata 적용"
   ]
  },
  {
   "cell_type": "code",
   "execution_count": 7,
   "id": "52984408-6694-4b4d-962f-e7bcf8106f45",
   "metadata": {},
   "outputs": [
    {
     "data": {
      "text/plain": [
       "'1.11.2'"
      ]
     },
     "execution_count": 7,
     "metadata": {},
     "output_type": "execute_result"
    }
   ],
   "source": [
    "import scanpy as sc\n",
    "import pandas as pd\n",
    "import numpy as np\n",
    "import matplotlib.pyplot as plt\n",
    "import scanpy as sc\n",
    "\n",
    "sc.__version__"
   ]
  },
  {
   "cell_type": "code",
   "execution_count": 8,
   "id": "5263f54c-0f18-4b25-a4c8-d30df8253639",
   "metadata": {},
   "outputs": [
    {
     "ename": "FileNotFoundError",
     "evalue": "[Errno 2] Unable to synchronously open file (unable to open file: name = '/home/r22100180/sample_GRCh38/outs/filtered_feature_bc_matrix.h5', errno = 2, error message = 'No such file or directory', flags = 0, o_flags = 0)",
     "output_type": "error",
     "traceback": [
      "\u001b[0;31m---------------------------------------------------------------------------\u001b[0m",
      "\u001b[0;31mFileNotFoundError\u001b[0m                         Traceback (most recent call last)",
      "Cell \u001b[0;32mIn[8], line 1\u001b[0m\n\u001b[0;32m----> 1\u001b[0m adata \u001b[38;5;241m=\u001b[39m sc\u001b[38;5;241m.\u001b[39mread_10x_h5(\u001b[38;5;124m'\u001b[39m\u001b[38;5;124m/home/r22100180/sample_GRCh38/outs/filtered_feature_bc_matrix.h5\u001b[39m\u001b[38;5;124m'\u001b[39m)\n\u001b[1;32m      2\u001b[0m adata\n",
      "File \u001b[0;32m/opt/anaconda3/lib/python3.12/site-packages/legacy_api_wrap/__init__.py:82\u001b[0m, in \u001b[0;36mlegacy_api.<locals>.wrapper.<locals>.fn_compatible\u001b[0;34m(*args_all, **kw)\u001b[0m\n\u001b[1;32m     79\u001b[0m \u001b[38;5;129m@wraps\u001b[39m(fn)\n\u001b[1;32m     80\u001b[0m \u001b[38;5;28;01mdef\u001b[39;00m \u001b[38;5;21mfn_compatible\u001b[39m(\u001b[38;5;241m*\u001b[39margs_all: P\u001b[38;5;241m.\u001b[39margs, \u001b[38;5;241m*\u001b[39m\u001b[38;5;241m*\u001b[39mkw: P\u001b[38;5;241m.\u001b[39mkwargs) \u001b[38;5;241m-\u001b[39m\u001b[38;5;241m>\u001b[39m R:\n\u001b[1;32m     81\u001b[0m     \u001b[38;5;28;01mif\u001b[39;00m \u001b[38;5;28mlen\u001b[39m(args_all) \u001b[38;5;241m<\u001b[39m\u001b[38;5;241m=\u001b[39m n_positional:\n\u001b[0;32m---> 82\u001b[0m         \u001b[38;5;28;01mreturn\u001b[39;00m fn(\u001b[38;5;241m*\u001b[39margs_all, \u001b[38;5;241m*\u001b[39m\u001b[38;5;241m*\u001b[39mkw)\n\u001b[1;32m     84\u001b[0m     args_pos: P\u001b[38;5;241m.\u001b[39margs\n\u001b[1;32m     85\u001b[0m     args_pos, args_rest \u001b[38;5;241m=\u001b[39m args_all[:n_positional], args_all[n_positional:]\n",
      "File \u001b[0;32m/opt/anaconda3/lib/python3.12/site-packages/scanpy/readwrite.py:221\u001b[0m, in \u001b[0;36mread_10x_h5\u001b[0;34m(filename, genome, gex_only, backup_url)\u001b[0m\n\u001b[1;32m    219\u001b[0m \u001b[38;5;28;01mif\u001b[39;00m \u001b[38;5;129;01mnot\u001b[39;00m is_present:\n\u001b[1;32m    220\u001b[0m     logg\u001b[38;5;241m.\u001b[39mdebug(\u001b[38;5;124mf\u001b[39m\u001b[38;5;124m\"\u001b[39m\u001b[38;5;124m... did not find original file \u001b[39m\u001b[38;5;132;01m{\u001b[39;00mpath\u001b[38;5;132;01m}\u001b[39;00m\u001b[38;5;124m\"\u001b[39m)\n\u001b[0;32m--> 221\u001b[0m \u001b[38;5;28;01mwith\u001b[39;00m h5py\u001b[38;5;241m.\u001b[39mFile(\u001b[38;5;28mstr\u001b[39m(path), \u001b[38;5;124m\"\u001b[39m\u001b[38;5;124mr\u001b[39m\u001b[38;5;124m\"\u001b[39m) \u001b[38;5;28;01mas\u001b[39;00m f:\n\u001b[1;32m    222\u001b[0m     v3 \u001b[38;5;241m=\u001b[39m \u001b[38;5;124m\"\u001b[39m\u001b[38;5;124m/matrix\u001b[39m\u001b[38;5;124m\"\u001b[39m \u001b[38;5;129;01min\u001b[39;00m f\n\u001b[1;32m    223\u001b[0m \u001b[38;5;28;01mif\u001b[39;00m v3:\n",
      "File \u001b[0;32m/opt/anaconda3/lib/python3.12/site-packages/h5py/_hl/files.py:564\u001b[0m, in \u001b[0;36mFile.__init__\u001b[0;34m(self, name, mode, driver, libver, userblock_size, swmr, rdcc_nslots, rdcc_nbytes, rdcc_w0, track_order, fs_strategy, fs_persist, fs_threshold, fs_page_size, page_buf_size, min_meta_keep, min_raw_keep, locking, alignment_threshold, alignment_interval, meta_block_size, **kwds)\u001b[0m\n\u001b[1;32m    555\u001b[0m     fapl \u001b[38;5;241m=\u001b[39m make_fapl(driver, libver, rdcc_nslots, rdcc_nbytes, rdcc_w0,\n\u001b[1;32m    556\u001b[0m                      locking, page_buf_size, min_meta_keep, min_raw_keep,\n\u001b[1;32m    557\u001b[0m                      alignment_threshold\u001b[38;5;241m=\u001b[39malignment_threshold,\n\u001b[1;32m    558\u001b[0m                      alignment_interval\u001b[38;5;241m=\u001b[39malignment_interval,\n\u001b[1;32m    559\u001b[0m                      meta_block_size\u001b[38;5;241m=\u001b[39mmeta_block_size,\n\u001b[1;32m    560\u001b[0m                      \u001b[38;5;241m*\u001b[39m\u001b[38;5;241m*\u001b[39mkwds)\n\u001b[1;32m    561\u001b[0m     fcpl \u001b[38;5;241m=\u001b[39m make_fcpl(track_order\u001b[38;5;241m=\u001b[39mtrack_order, fs_strategy\u001b[38;5;241m=\u001b[39mfs_strategy,\n\u001b[1;32m    562\u001b[0m                      fs_persist\u001b[38;5;241m=\u001b[39mfs_persist, fs_threshold\u001b[38;5;241m=\u001b[39mfs_threshold,\n\u001b[1;32m    563\u001b[0m                      fs_page_size\u001b[38;5;241m=\u001b[39mfs_page_size)\n\u001b[0;32m--> 564\u001b[0m     fid \u001b[38;5;241m=\u001b[39m make_fid(name, mode, userblock_size, fapl, fcpl, swmr\u001b[38;5;241m=\u001b[39mswmr)\n\u001b[1;32m    566\u001b[0m \u001b[38;5;28;01mif\u001b[39;00m \u001b[38;5;28misinstance\u001b[39m(libver, \u001b[38;5;28mtuple\u001b[39m):\n\u001b[1;32m    567\u001b[0m     \u001b[38;5;28mself\u001b[39m\u001b[38;5;241m.\u001b[39m_libver \u001b[38;5;241m=\u001b[39m libver\n",
      "File \u001b[0;32m/opt/anaconda3/lib/python3.12/site-packages/h5py/_hl/files.py:238\u001b[0m, in \u001b[0;36mmake_fid\u001b[0;34m(name, mode, userblock_size, fapl, fcpl, swmr)\u001b[0m\n\u001b[1;32m    236\u001b[0m     \u001b[38;5;28;01mif\u001b[39;00m swmr \u001b[38;5;129;01mand\u001b[39;00m swmr_support:\n\u001b[1;32m    237\u001b[0m         flags \u001b[38;5;241m|\u001b[39m\u001b[38;5;241m=\u001b[39m h5f\u001b[38;5;241m.\u001b[39mACC_SWMR_READ\n\u001b[0;32m--> 238\u001b[0m     fid \u001b[38;5;241m=\u001b[39m h5f\u001b[38;5;241m.\u001b[39mopen(name, flags, fapl\u001b[38;5;241m=\u001b[39mfapl)\n\u001b[1;32m    239\u001b[0m \u001b[38;5;28;01melif\u001b[39;00m mode \u001b[38;5;241m==\u001b[39m \u001b[38;5;124m'\u001b[39m\u001b[38;5;124mr+\u001b[39m\u001b[38;5;124m'\u001b[39m:\n\u001b[1;32m    240\u001b[0m     fid \u001b[38;5;241m=\u001b[39m h5f\u001b[38;5;241m.\u001b[39mopen(name, h5f\u001b[38;5;241m.\u001b[39mACC_RDWR, fapl\u001b[38;5;241m=\u001b[39mfapl)\n",
      "File \u001b[0;32mh5py/_objects.pyx:56\u001b[0m, in \u001b[0;36mh5py._objects.with_phil.wrapper\u001b[0;34m()\u001b[0m\n",
      "File \u001b[0;32mh5py/_objects.pyx:57\u001b[0m, in \u001b[0;36mh5py._objects.with_phil.wrapper\u001b[0;34m()\u001b[0m\n",
      "File \u001b[0;32mh5py/h5f.pyx:102\u001b[0m, in \u001b[0;36mh5py.h5f.open\u001b[0;34m()\u001b[0m\n",
      "\u001b[0;31mFileNotFoundError\u001b[0m: [Errno 2] Unable to synchronously open file (unable to open file: name = '/home/r22100180/sample_GRCh38/outs/filtered_feature_bc_matrix.h5', errno = 2, error message = 'No such file or directory', flags = 0, o_flags = 0)"
     ]
    }
   ],
   "source": [
    "adata = sc.read_10x_h5('/home/r22100180/sample_GRCh38/outs/filtered_feature_bc_matrix.h5')\n",
    "adata"
   ]
  },
  {
   "cell_type": "code",
   "execution_count": null,
   "id": "6f842aa3-51e2-4fa1-a3cf-304b85e454a9",
   "metadata": {},
   "outputs": [],
   "source": [
    "adata.var_names_make_unique()"
   ]
  },
  {
   "cell_type": "code",
   "execution_count": null,
   "id": "ce6fbaca-679a-4414-ad52-f9e3164f4696",
   "metadata": {},
   "outputs": [],
   "source": [
    "adata"
   ]
  },
  {
   "cell_type": "markdown",
   "id": "25678ce9-a3bf-44c9-b4ed-57191034b126",
   "metadata": {},
   "source": [
    "## The count data matrix"
   ]
  },
  {
   "cell_type": "code",
   "execution_count": null,
   "id": "ae7adc09-562d-46da-906f-16f72de4618e",
   "metadata": {},
   "outputs": [],
   "source": [
    "adata.X"
   ]
  },
  {
   "cell_type": "code",
   "execution_count": null,
   "id": "c8310452-1ec8-42c0-a37b-c98c7761aec1",
   "metadata": {},
   "outputs": [],
   "source": [
    "adata.X.data"
   ]
  },
  {
   "cell_type": "code",
   "execution_count": null,
   "id": "30ac2def-2b35-48fd-b2cb-049c9005c916",
   "metadata": {},
   "outputs": [],
   "source": [
    "adata.X.toarray()"
   ]
  },
  {
   "cell_type": "markdown",
   "id": "abf5ec3b-b61a-4301-93a0-cf3784e12459",
   "metadata": {},
   "source": [
    "## Cell barcodes"
   ]
  },
  {
   "cell_type": "code",
   "execution_count": null,
   "id": "7d66bff6-071d-42bd-b79b-e91737b2e342",
   "metadata": {},
   "outputs": [],
   "source": [
    "adata.obs"
   ]
  },
  {
   "cell_type": "code",
   "execution_count": null,
   "id": "cbb46cd3-c6d1-4e70-9edb-05f36114616e",
   "metadata": {},
   "outputs": [],
   "source": [
    "type(adata.obs)"
   ]
  },
  {
   "cell_type": "markdown",
   "id": "35009f4a-7439-43cf-b764-9025dfe58565",
   "metadata": {},
   "source": [
    "## Genes"
   ]
  },
  {
   "cell_type": "code",
   "execution_count": null,
   "id": "e1950d5d-0ec3-405c-adf2-ef6681b362c2",
   "metadata": {},
   "outputs": [],
   "source": [
    "adata.var"
   ]
  },
  {
   "cell_type": "code",
   "execution_count": null,
   "id": "b76d74c7-349d-4903-bca9-d5e612f264cd",
   "metadata": {},
   "outputs": [],
   "source": [
    "type(adata.var)"
   ]
  },
  {
   "cell_type": "markdown",
   "id": "53e5a375-8e28-4119-8f00-520ce94cc71c",
   "metadata": {},
   "source": [
    "## Sparsity affects gene-gene relationships"
   ]
  },
  {
   "cell_type": "code",
   "execution_count": null,
   "id": "eeab00b9-3dca-4fce-b366-8e226c826900",
   "metadata": {},
   "outputs": [],
   "source": [
    "sc.pl.scatter(adata, x = 'CD4', y = 'CD8A', size = 50)"
   ]
  },
  {
   "cell_type": "code",
   "execution_count": null,
   "id": "0a354bfe-08be-45a9-8126-9322ea569aed",
   "metadata": {},
   "outputs": [],
   "source": [
    "from scipy.stats import gaussian_kde\n",
    "\n",
    "x = adata[:, 'CD4'].X.toarray().flatten()\n",
    "y = adata[:, 'CD8A'].X.toarray().flatten()\n",
    "\n",
    "# Calculate the point density\n",
    "xy = np.vstack([x,y])\n",
    "z = gaussian_kde(xy)(xy)"
   ]
  },
  {
   "cell_type": "code",
   "execution_count": null,
   "id": "8d87b1c6-0f34-4355-a982-73332274197f",
   "metadata": {},
   "outputs": [],
   "source": [
    "fig, ax = plt.subplots()\n",
    "im1 = ax.scatter(x, y, c=z, s=100)\n",
    "ax.set_xlabel('CD4')\n",
    "ax.set_ylabel('CD8A')\n",
    "fig.colorbar(im1)\n",
    "plt.show()\n"
   ]
  },
  {
   "cell_type": "markdown",
   "id": "7c0c149c-c411-4524-838c-37b609dfdd34",
   "metadata": {},
   "source": [
    "## Calculate QC metrics"
   ]
  },
  {
   "cell_type": "code",
   "execution_count": null,
   "id": "a7346f55-76f9-4e81-bb7b-8f279011244b",
   "metadata": {},
   "outputs": [],
   "source": [
    "sc.pp.calculate_qc_metrics(adata, inplace=True)"
   ]
  },
  {
   "cell_type": "code",
   "execution_count": null,
   "id": "df19e007-c560-4047-9d71-36cb266343c5",
   "metadata": {},
   "outputs": [],
   "source": [
    "adata"
   ]
  },
  {
   "cell_type": "code",
   "execution_count": null,
   "id": "1b6e6509-a932-400a-8e40-c8f54d7e2d4a",
   "metadata": {},
   "outputs": [],
   "source": [
    "adata.obs.head()"
   ]
  },
  {
   "cell_type": "code",
   "execution_count": null,
   "id": "efd08df8-79c8-4d5d-bf76-452acfadb592",
   "metadata": {},
   "outputs": [],
   "source": [
    "adata.var.head()"
   ]
  },
  {
   "cell_type": "markdown",
   "id": "3cbc0a94-58e3-4166-9299-e2c3e1e33e64",
   "metadata": {},
   "source": [
    "## Visualize library size"
   ]
  },
  {
   "cell_type": "code",
   "execution_count": null,
   "id": "ec84db4c-a703-4548-9ec2-29b6be1e5195",
   "metadata": {},
   "outputs": [],
   "source": [
    "plt.hist(adata.obs['log1p_total_counts'], 100);\n",
    "plt.xlabel('log1p library size', fontsize = 14)\n",
    "plt.ylabel('Frequency', fontsize = 14)"
   ]
  },
  {
   "cell_type": "markdown",
   "id": "ef89d156-acd0-4be2-a15a-dcd33adff618",
   "metadata": {},
   "source": [
    "## Visualize the number of genes in each cell"
   ]
  },
  {
   "cell_type": "code",
   "execution_count": null,
   "id": "aab6c311-b95b-44bf-aa4c-3f643189da50",
   "metadata": {},
   "outputs": [],
   "source": [
    "plt.hist(adata.obs['log1p_n_genes_by_counts'], bins = 100);\n",
    "plt.xlabel('Log of num. genes per cell', fontsize = 14)\n",
    "plt.ylabel('Frequency', fontsize = 14)\n",
    "#plt.title('Histogram of number of genes expressed in each cell', fontsize = 14)"
   ]
  },
  {
   "cell_type": "code",
   "execution_count": null,
   "id": "68fc5274-3cf6-4696-8b4f-d9ef0bc92ad8",
   "metadata": {},
   "outputs": [],
   "source": [
    "fig = plt.figure(figsize = (8*3, 6*1))\n",
    "ax = fig.add_subplot(1, 3, 1)\n",
    "ax.hist(adata.obs['log1p_total_counts'], bins = 100);\n",
    "ax.set_xlabel('Log-library size', fontsize = 14)\n",
    "ax.set_ylabel('Frequency', fontsize = 14)\n",
    "ax.set_title('Histogram of log library size', fontsize = 14)\n",
    "\n",
    "ax = fig.add_subplot(1, 3, 2)\n",
    "ax.hist(adata.obs['log1p_n_genes_by_counts'], bins = 100);\n",
    "ax.set_xlabel('Log of num. genes per cell', fontsize = 14)\n",
    "ax.set_ylabel('Frequency', fontsize = 14)\n",
    "ax.set_title('Histogram of number of genes expressed in each cell', fontsize = 14)\n",
    "\n",
    "ax = fig.add_subplot(1, 3, 3)\n",
    "x = adata.obs['log1p_total_counts']\n",
    "y = adata.obs['log1p_n_genes_by_counts']\n",
    "ax.scatter(x, y, s = 5);\n",
    "ax.set_ylabel('Log of num. genes per cell', fontsize = 14)\n",
    "ax.set_xlabel('Log library size', fontsize = 14)\n",
    "corr_coef = np.corrcoef(x, y)[0, 1]\n",
    "ax.set_title('Correlation = ' + str(round(corr_coef, 3)), fontsize = 14)"
   ]
  },
  {
   "cell_type": "markdown",
   "id": "6323b544-bca5-4021-bc46-e86880484215",
   "metadata": {},
   "source": [
    "## Mitochondrial content"
   ]
  },
  {
   "cell_type": "code",
   "execution_count": null,
   "id": "127f1648-f619-44cf-b7d9-5fd75d701c06",
   "metadata": {},
   "outputs": [],
   "source": [
    "adata.var['mt'] = adata.var_names.str.startswith('MT-')  # annotate the group of mitochondrial genes as 'mt'"
   ]
  },
  {
   "cell_type": "code",
   "execution_count": null,
   "id": "41366271-4b3c-4bb8-af4b-8a3dd944dc80",
   "metadata": {},
   "outputs": [],
   "source": [
    "sc.pp.calculate_qc_metrics(adata, qc_vars=['mt'], percent_top=None, log1p=False, inplace=True)"
   ]
  },
  {
   "cell_type": "code",
   "execution_count": null,
   "id": "1ecf7c72-1556-4aa2-9406-deed231f1b33",
   "metadata": {},
   "outputs": [],
   "source": [
    "adata"
   ]
  },
  {
   "cell_type": "markdown",
   "id": "4196927f-a41d-45be-8764-107a8026f2ee",
   "metadata": {},
   "source": [
    "### Visualize Mito-content"
   ]
  },
  {
   "cell_type": "code",
   "execution_count": null,
   "id": "26c52cc0-6aa0-45db-b044-ffd408203eae",
   "metadata": {},
   "outputs": [],
   "source": [
    "fig = plt.figure(figsize = (8*3, 6*1))\n",
    "ax = fig.add_subplot(1, 3, 1)\n",
    "ax.hist(adata.obs['pct_counts_mt'], 100);\n",
    "ax.set_xlabel('% MT-content', fontsize = 14)\n",
    "ax.set_ylabel('Frequency', fontsize = 14)\n",
    "\n",
    "ax = fig.add_subplot(1, 3, 2)\n",
    "ax.scatter(adata.obs['log1p_total_counts'], adata.obs['pct_counts_mt']);\n",
    "ax.set_xlabel('Log library size', fontsize = 14)\n",
    "ax.set_ylabel('% MT-content', fontsize = 14)\n",
    "\n",
    "ax = fig.add_subplot(1, 3, 3)\n",
    "ax.scatter(adata.obs['log1p_n_genes_by_counts'], adata.obs['pct_counts_mt']);\n",
    "ax.set_xlabel('Log num. genes per cell', fontsize = 14)\n",
    "ax.set_ylabel('% MT-content', fontsize = 14)"
   ]
  },
  {
   "cell_type": "code",
   "execution_count": null,
   "id": "cc819121-6a81-43ee-afc7-aa61f56ffb29",
   "metadata": {},
   "outputs": [],
   "source": [
    "adata_clean = adata[adata.obs['pct_counts_mt'] < 25, :]"
   ]
  },
  {
   "cell_type": "code",
   "execution_count": null,
   "id": "5b768125-7d84-479d-9143-36e2cf9fdf10",
   "metadata": {},
   "outputs": [],
   "source": [
    "adata_clean"
   ]
  },
  {
   "cell_type": "code",
   "execution_count": null,
   "id": "c024a740-bc02-46e9-84ff-cd1add9ef3e4",
   "metadata": {},
   "outputs": [],
   "source": [
    "# just double check: there must be no cell with MT > 25\n",
    "plt.hist(adata_clean.obs['pct_counts_mt'], 100);\n",
    "plt.xlabel('% MT-content', fontsize = 14)\n",
    "plt.ylabel('Frequency', fontsize = 14)"
   ]
  },
  {
   "cell_type": "markdown",
   "id": "eebb0fa4-efd0-49dd-a1c5-762ccfbcd30d",
   "metadata": {},
   "source": [
    "## Plot number of genes expressed in each cell"
   ]
  },
  {
   "cell_type": "code",
   "execution_count": null,
   "id": "4ff11f02-b786-49b1-966a-86b45ebb3884",
   "metadata": {},
   "outputs": [],
   "source": [
    "plt.hist(adata_clean.var['n_cells_by_counts'], bins = 100);\n",
    "plt.xlabel('Number of cells a gene is expressed in', fontsize = 14)\n",
    "plt.ylabel('Frequency', fontsize = 14)\n",
    "plt.title('Histogram of number of cells each gene is expressed in', fontsize = 14)"
   ]
  },
  {
   "cell_type": "code",
   "execution_count": null,
   "id": "aad2e778-523c-4b91-a792-201b2c6f82eb",
   "metadata": {},
   "outputs": [],
   "source": [
    "fig = plt.figure(figsize = (8*3, 6*1))\n",
    "ax = fig.add_subplot(1, 3, 1)\n",
    "ax.hist(adata_clean.var['n_cells_by_counts'], bins = 100);\n",
    "ax.set_xlabel('Number of cells a gene is expressed in', fontsize = 14)\n",
    "ax.set_ylabel('Frequency', fontsize = 14)\n",
    "ax.set_title('Histogram of number of cells each gene is expressed in', fontsize = 14)\n",
    "\n",
    "ax = fig.add_subplot(1, 3, 2)\n",
    "ax.hist(np.log(adata_clean.var['n_cells_by_counts'] + 1), bins = 100);\n",
    "ax.set_xlabel('Log - Number of cells a gene is expressed in', fontsize = 14)\n",
    "ax.set_ylabel('Frequency', fontsize = 14)\n",
    "ax.set_title('Histogram of log of number of cells each gene is expressed in', fontsize = 14)\n",
    "\n",
    "ax = fig.add_subplot(1, 3, 3)\n",
    "ax.hist(np.log(adata_clean.var['n_cells_by_counts'] + 1), bins = 100);\n",
    "ax.set_xlabel('Log - Number of cells a gene is expressed in', fontsize = 14)\n",
    "ax.set_ylabel('Frequency, ylim trimmed', fontsize = 14)\n",
    "ax.set_title('Histogram of log of number of cells each gene is expressed in', fontsize = 14)\n",
    "ax.set_ylim([0, 1000])"
   ]
  },
  {
   "cell_type": "markdown",
   "id": "b2a1f1be-8627-4290-a4b6-36d1b89796a3",
   "metadata": {},
   "source": [
    "### Remove lowly expressed genes"
   ]
  },
  {
   "cell_type": "code",
   "execution_count": null,
   "id": "072f288c-6e69-453e-81af-d3e049136a73",
   "metadata": {},
   "outputs": [],
   "source": [
    "sc.pp.filter_genes(adata_clean, min_cells = np.exp(4))"
   ]
  },
  {
   "cell_type": "code",
   "execution_count": null,
   "id": "7fef5ae8-954f-4669-aa33-d2ee009e7ad3",
   "metadata": {},
   "outputs": [],
   "source": [
    "adata_clean"
   ]
  },
  {
   "cell_type": "markdown",
   "id": "e23a1e26-d717-49fc-b0de-d75cf498192c",
   "metadata": {},
   "source": [
    "## Ribosomal RNA content"
   ]
  },
  {
   "cell_type": "code",
   "execution_count": null,
   "id": "7092bcd5-0c42-46fa-9110-e728eada29c3",
   "metadata": {},
   "outputs": [],
   "source": [
    "adata_clean.var_names[adata_clean.var_names.str.startswith(('RPS', 'RPL'))]"
   ]
  },
  {
   "cell_type": "code",
   "execution_count": null,
   "id": "50df5a94-7019-4535-91ef-0b00d7bc4da2",
   "metadata": {},
   "outputs": [],
   "source": [
    "adata_clean = adata_clean[:, ~adata_clean.var_names.str.startswith(('RPS', 'RPL'))]"
   ]
  },
  {
   "cell_type": "code",
   "execution_count": null,
   "id": "78d76351-24e9-48d2-944f-e37df90bff03",
   "metadata": {},
   "outputs": [],
   "source": [
    "adata_clean"
   ]
  }
 ],
 "metadata": {
  "kernelspec": {
   "display_name": "Python 3 (ipykernel)",
   "language": "python",
   "name": "python3"
  },
  "language_info": {
   "codemirror_mode": {
    "name": "ipython",
    "version": 3
   },
   "file_extension": ".py",
   "mimetype": "text/x-python",
   "name": "python",
   "nbconvert_exporter": "python",
   "pygments_lexer": "ipython3",
   "version": "3.12.7"
  }
 },
 "nbformat": 4,
 "nbformat_minor": 5
}
